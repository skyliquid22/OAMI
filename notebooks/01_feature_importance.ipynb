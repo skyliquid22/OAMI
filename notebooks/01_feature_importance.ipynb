{
 "cells": [
  {
   "cell_type": "markdown",
   "id": "59eb6d21",
   "metadata": {},
   "source": [
    "# 01 — Feature Importance"
   ]
  },
  {
   "cell_type": "code",
   "execution_count": null,
   "id": "b4ad5647",
   "metadata": {},
   "outputs": [],
   "source": [
    "import pandas as pd\n",
    "from oami.logging_config import setup_json_logging\n",
    "from oami.data_layer import get_market_data, get_options_data\n",
    "from oami.dataset import build_unified_dataset\n",
    "setup_json_logging()\n",
    "mkt = pd.read_csv('data/csv/day/SPY.csv', parse_dates=['Date'])\n",
    "opt = pd.read_csv('data/csv/day/SPY_options.csv', parse_dates=['Date'])\n",
    "feature_cfg = {'sma_windows':[10,20,50],'ema_windows':[10,20,50],'rsi_window':14,'macd_fast':12,'macd_slow':26,'macd_signal':9,'bb_window':20,'bb_std':2,'lags':[1,2,3,5],'rolling_windows':[5,10,20]}\n",
    "df = build_unified_dataset(mkt, opt, feature_cfg)\n",
    "df.head()"
   ]
  }
 ],
 "metadata": {},
 "nbformat": 4,
 "nbformat_minor": 5
}

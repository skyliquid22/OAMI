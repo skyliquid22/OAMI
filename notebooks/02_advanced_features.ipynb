{
 "cells": [
  {
   "cell_type": "markdown",
   "id": "18cd691d",
   "metadata": {},
   "source": [
    "# 02 — Advanced Features EDA"
   ]
  },
  {
   "cell_type": "code",
   "execution_count": null,
   "id": "ef936f74",
   "metadata": {},
   "outputs": [],
   "source": [
    "from oami.data_layer import get_market_data, get_options_data\n",
    "from oami.features_advanced import AdvancedFeatureBuilder\n",
    "\n",
    "SYMBOL = 'SPY'\n",
    "START_DATE = '2024-01-01'\n",
    "END_DATE = '2024-06-30'\n",
    "\n",
    "market_df = get_market_data(SYMBOL, START_DATE, END_DATE, interval='1D')\n",
    "options_contracts = get_options_data(SYMBOL, START_DATE, END_DATE, interval='1D', look_forward=14)\n",
    "\n",
    "afb = AdvancedFeatureBuilder(market_df, options_contracts)\n",
    "df = afb.add_crossasset().add_options_implied().apply_selection().finalize()\n",
    "df.head()"
   ]
  }
 ],
 "metadata": {},
 "nbformat": 4,
 "nbformat_minor": 5
}

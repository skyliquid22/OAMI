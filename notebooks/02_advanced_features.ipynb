{
 "cells": [
  {
   "cell_type": "markdown",
   "id": "18cd691d",
   "metadata": {},
   "source": [
    "# 02 — Advanced Features EDA"
   ]
  },
  {
   "cell_type": "code",
   "execution_count": null,
   "id": "ef936f74",
   "metadata": {},
   "outputs": [],
   "source": [
    "import pandas as pd\n",
    "from oami.features_advanced import AdvancedFeatureBuilder\n",
    "mkt = pd.read_csv('data/csv/day/SPY.csv', parse_dates=['Date'])\n",
    "opt = pd.read_csv('data/csv/day/SPY_options.csv', parse_dates=['Date'])\n",
    "afb = AdvancedFeatureBuilder(mkt, opt)\n",
    "df = afb.add_crossasset().add_options_implied().apply_selection().finalize()\n",
    "df.head()"
   ]
  }
 ],
 "metadata": {},
 "nbformat": 4,
 "nbformat_minor": 5
}

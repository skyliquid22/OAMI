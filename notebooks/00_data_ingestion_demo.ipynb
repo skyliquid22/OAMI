{
 "cells": [
  {
   "cell_type": "markdown",
   "id": "5bf0b896",
   "metadata": {},
   "source": [
    "# 00 — Data Ingestion (Step-by-step)\n",
    "**Goal:** Walk through using `get_market_data` and `get_options_data` with caching.\n",
    "\n",
    "---\n"
   ]
  },
  {
   "cell_type": "code",
   "execution_count": 1,
   "id": "5bd0b2da",
   "metadata": {},
   "source": [
    "# 1. Environment setup\n",
    "import os, sys\n",
    "sys.path.append(os.path.abspath(os.path.join(os.getcwd(), '..', 'src')))\n",
    "\n",
    "from datetime import date, timedelta\n",
    "from oami.config import initialize_environment\n",
    "from oami.data_layer import get_market_data, get_options_data\n",
    "\n",
    "\n",
    "api_key = initialize_environment()\n",
    "print('API key configured' if api_key != 'YOUR_KEY_HERE' else 'Running in offline mode using cache')\n"
   ],
   "outputs": []
  },
  {
   "cell_type": "markdown",
   "id": "d1170568",
   "metadata": {},
   "source": [
    "## 2. Choose symbol and date window\n",
    "We'll work with `SPY` and fetch the last 30 days of data.\n"
   ]
  },
  {
   "cell_type": "code",
   "execution_count": 2,
   "id": "2bcf53a5",
   "metadata": {},
   "source": [
    "symbol = 'SPY'\n",
    "end_date = date.today()\n",
    "start_date = end_date - timedelta(days=30)\n",
    "print(f'Requesting data from {start_date} to {end_date}')\n"
   ],
   "outputs": []
  },
  {
   "cell_type": "markdown",
   "id": "72a83fd6",
   "metadata": {},
   "source": [
    "## 3. Fetch market data\n",
    "`get_market_data` re-uses cached CSVs in `data/csv/market/<interval>/<symbol>.csv`. Missing ranges are pulled from Polygon and persisted automatically.\n"
   ]
  },
  {
   "cell_type": "code",
   "execution_count": 3,
   "id": "0fb075f4",
   "metadata": {},
   "source": [
    "market_df = get_market_data(\n",
    "    symbol=symbol,\n",
    "    start=start_date.isoformat(),\n",
    "    end=end_date.isoformat(),\n",
    "    interval='1D',\n",
    "    use_cache=True,\n",
    ")\n",
    "print('Market rows:', len(market_df))\n",
    "market_df.head()\n"
   ],
   "outputs": []
  },
  {
   "cell_type": "markdown",
   "id": "75302277",
   "metadata": {},
   "source": [
    "## 4. Fetch options data\n",
    "`get_options_data` pulls contract metadata, stores per-contract aggregates in `data/options`, then builds a daily sentiment summary.\n"
   ]
  },
  {
   "cell_type": "code",
   "execution_count": null,
   "id": "cf7478d5",
   "metadata": {},
   "source": [
    "options_df = get_options_data(\n",
    "    symbol=symbol,\n",
    "    start_date=start_date.isoformat(),\n",
    "    end_date=end_date.isoformat(),\n",
    "    interval='1D',\n",
    "    use_cache=True,\n",
    ")\n",
    "print('Options rows:', len(options_df))\n",
    "options_df.head()\n"
   ],
   "outputs": []
  },
  {
   "cell_type": "markdown",
   "id": "92032797",
   "metadata": {},
   "source": [
    "## 5. Where did the data go?\n",
    "- Market cache: `data/csv/market/1D/{symbol}.csv`\n",
    "- Contracts: `data/options/{symbol}/contracts/<YYYY-MM-DD>.csv`\n",
    "- Aggregates per contract: `data/options/{symbol}/1day/<expiry>/<contract>.csv`\n",
    "- Options summary: `data/csv/options/1D/{symbol}.csv`\n",
    "\n",
    "Re-running the notebook with the same window now reloads directly from these caches.\n"
   ]
  }
 ],
 "metadata": {
  "kernelspec": {
   "display_name": "Python 3 (ipykernel)",
   "language": "python",
   "name": "python3"
  },
  "language_info": {
   "codemirror_mode": {
    "name": "ipython",
    "version": 3
   },
   "file_extension": ".py",
   "mimetype": "text/x-python",
   "name": "python",
   "nbconvert_exporter": "python",
   "pygments_lexer": "ipython3",
   "version": "3.13.7"
  }
 },
 "nbformat": 4,
 "nbformat_minor": 5
}

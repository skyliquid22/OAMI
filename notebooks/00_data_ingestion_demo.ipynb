{
 "cells": [
  {
   "cell_type": "markdown",
   "id": "3253dc37",
   "metadata": {},
   "source": [
    "# 00 — Data Ingestion (Step-by-step)\n**Goal:** Walk through using `get_market_data` and `get_options_data` with caching.\n\n---\n"
   ]
  },
  {
   "cell_type": "code",
   "execution_count": 3,
   "id": "01a44af6",
   "metadata": {},
   "source": [
    "# 1. Environment setup\n",
    "import os\n",
    "from datetime import date\n",
    "from oami.config import initialize_environment\n",
    "from oami.data_layer import get_market_data, get_options_data\n",
    "\n",
    "api_key = initialize_environment()\n",
    "print('API key configured' if api_key != 'YOUR_KEY_HERE' else 'Running in offline mode using cache')\n"
   ],
   "outputs": []
  },
  {
   "cell_type": "code",
   "execution_count": null,
   "id": "b70d10ea",
   "metadata": {},
   "source": [
    "## 2. Choose symbol and date window\nWe'll work with `SPY` and fetch the last 30 days of data.\n"
   ],
   "outputs": []
  },
  {
   "cell_type": "code",
   "execution_count": null,
   "id": "c14ec22b",
   "metadata": {},
   "source": [
    "from datetime import timedelta\n",
    "SYMBOL = 'SPY'\n",
    "end_date = date.today()\n",
    "start_date = end_date - timedelta(days=30)\n",
    "print(f'Requesting data from {start_date} to {end_date}')\n"
   ],
   "outputs": []
  },
  {
   "cell_type": "code",
   "execution_count": null,
   "id": "730a8827",
   "metadata": {},
   "source": [
    "## 3. Fetch market data\n`get_market_data` will re-use cached CSVs in `data/csv/market/<interval>/<symbol>.csv`. Missing ranges are pulled from Polygon and persisted automatically."
   ],
   "outputs": []
  },
  {
   "cell_type": "code",
   "execution_count": null,
   "id": "5bcd9819",
   "metadata": {},
   "source": [
    "market_df = get_market_data(\n",
    "    symbol=SYMBOL,\n",
    "    start=start_date.isoformat(),\n",
    "    end=end_date.isoformat(),\n",
    "    interval='1D',\n",
    "    use_cache=True,\n",
    ")\n",
    "print('Market rows:', len(market_df))\n",
    "market_df.head()\n"
   ],
   "outputs": []
  },
  {
   "cell_type": "code",
   "execution_count": null,
   "id": "c1ffd578",
   "metadata": {},
   "source": [
    "## 4. Fetch options data\n`get_options_data` pulls contract metadata, stores per-contract aggregates in `data/options`, then builds a daily sentiment summary."
   ],
   "outputs": []
  },
  {
   "cell_type": "markdown",
   "id": "ecf5f976",
   "metadata": {},
   "source": [
    "## 5. Where was data saved?\n- Market cache: `data/csv/market/1D/{SYMBOL}.csv`\n- Contracts: `data/options/{SYMBOL}/contracts/<YYYY-MM-DD>.csv`\n- Aggregates per contract: `data/options/{SYMBOL}/1day/<expiry>/<contract>.csv`\n- Options summary: `data/csv/options/1D/{SYMBOL}.csv`\n\nSubsequent calls within the same window load directly from these caches."
   ]
  }
 ],
 "metadata": {
  "kernelspec": {
   "display_name": "Python 3 (ipykernel)",
   "language": "python",
   "name": "python3"
  },
  "language_info": {
   "codemirror_mode": {
    "name": "ipython",
    "version": 3
   },
   "file_extension": ".py",
   "mimetype": "text/x-python",
   "name": "python",
   "nbconvert_exporter": "python",
   "pygments_lexer": "ipython3",
   "version": "3.13.7"
  }
 },
 "nbformat": 4,
 "nbformat_minor": 5
}

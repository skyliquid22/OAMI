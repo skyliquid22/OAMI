{
 "cells": [
  {
   "cell_type": "markdown",
   "id": "92ff5013",
   "metadata": {},
   "source": [
    "# 00 — Data Ingestion Demo"
   ]
  },
  {
   "cell_type": "code",
   "execution_count": null,
   "id": "14155d71",
   "metadata": {},
   "outputs": [],
   "source": [
    "from oami.logging_config import setup_json_logging\n",
    "from oami.data_layer import get_market_data, get_options_data\n",
    "setup_json_logging()\n",
    "len(get_market_data('SPY','2024-01-01','2025-10-01')), len(get_options_data('SPY','2024-01-01','2025-10-01'))"
   ]
  }
 ],
 "metadata": {},
 "nbformat": 4,
 "nbformat_minor": 5
}

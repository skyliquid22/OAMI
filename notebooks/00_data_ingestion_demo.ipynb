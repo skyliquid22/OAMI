{
 "cells": [
  {
   "cell_type": "markdown",
   "id": "5bf0b896",
   "metadata": {},
   "source": [
    "# 00 — Data Ingestion (Step-by-step)\n",
    "**Goal:** Walk through using `get_market_data` and `get_options_data` with caching.\n",
    "\n",
    "---\n"
   ]
  },
  {
   "cell_type": "code",
   "execution_count": 1,
   "id": "5bd0b2da",
   "metadata": {},
   "outputs": [
    {
     "name": "stdout",
     "output_type": "stream",
     "text": [
      "✅ Polygon API key detected and loaded.\n",
      "API key configured\n"
     ]
    }
   ],
   "source": [
    "# 1. Environment setup\n",
    "import os, sys\n",
    "sys.path.append(os.path.abspath(os.path.join(os.getcwd(), '..', 'src')))\n",
    "\n",
    "from datetime import date, timedelta\n",
    "from oami.config import initialize_environment\n",
    "from oami.data_layer import get_market_data, get_options_data\n",
    "\n",
    "\n",
    "api_key = initialize_environment()\n",
    "print('API key configured' if api_key != 'YOUR_KEY_HERE' else 'Running in offline mode using cache')\n"
   ]
  },
  {
   "cell_type": "markdown",
   "id": "d1170568",
   "metadata": {},
   "source": [
    "## 2. Choose symbol and date window\n",
    "We'll work with `SPY` and fetch the last 30 days of data.\n"
   ]
  },
  {
   "cell_type": "code",
   "execution_count": 2,
   "id": "2bcf53a5",
   "metadata": {},
   "outputs": [
    {
     "name": "stdout",
     "output_type": "stream",
     "text": [
      "Requesting data from 2025-09-22 to 2025-10-22\n"
     ]
    }
   ],
   "source": [
    "symbol = 'SPY'\n",
    "end_date = date.today()\n",
    "start_date = end_date - timedelta(days=30)\n",
    "print(f'Requesting data from {start_date} to {end_date}')\n"
   ]
  },
  {
   "cell_type": "markdown",
   "id": "72a83fd6",
   "metadata": {},
   "source": [
    "## 3. Fetch market data\n",
    "`get_market_data` reads from the consolidated HDF5 cache at `data/cache/oami_store.h5`. When a requested window is missing, the helper fetches gaps from Polygon and persists them immediately."
   ]
  },
  {
   "cell_type": "code",
   "execution_count": 3,
   "id": "0fb075f4",
   "metadata": {},
   "outputs": [
    {
     "name": "stderr",
     "output_type": "stream",
     "text": [
      "                                                                                "
     ]
    },
    {
     "name": "stdout",
     "output_type": "stream",
     "text": [
      "Market rows: 21\n",
      "<class 'pandas.core.frame.DataFrame'>\n",
      "RangeIndex: 21 entries, 0 to 20\n",
      "Data columns (total 6 columns):\n",
      " #   Column     Non-Null Count  Dtype         \n",
      "---  ------     --------------  -----         \n",
      " 0   Timestamp  21 non-null     datetime64[ns]\n",
      " 1   Open       21 non-null     float64       \n",
      " 2   High       21 non-null     float64       \n",
      " 3   Low        21 non-null     float64       \n",
      " 4   Close      21 non-null     float64       \n",
      " 5   Volume     21 non-null     float64       \n",
      "dtypes: datetime64[ns](1), float64(5)\n",
      "memory usage: 1.1 KB\n"
     ]
    },
    {
     "name": "stderr",
     "output_type": "stream",
     "text": []
    },
    {
     "data": {
      "text/html": [
       "<div>\n",
       "<style scoped>\n",
       "    .dataframe tbody tr th:only-of-type {\n",
       "        vertical-align: middle;\n",
       "    }\n",
       "\n",
       "    .dataframe tbody tr th {\n",
       "        vertical-align: top;\n",
       "    }\n",
       "\n",
       "    .dataframe thead th {\n",
       "        text-align: right;\n",
       "    }\n",
       "</style>\n",
       "<table border=\"1\" class=\"dataframe\">\n",
       "  <thead>\n",
       "    <tr style=\"text-align: right;\">\n",
       "      <th></th>\n",
       "      <th>Timestamp</th>\n",
       "      <th>Open</th>\n",
       "      <th>High</th>\n",
       "      <th>Low</th>\n",
       "      <th>Close</th>\n",
       "      <th>Volume</th>\n",
       "    </tr>\n",
       "  </thead>\n",
       "  <tbody>\n",
       "    <tr>\n",
       "      <th>count</th>\n",
       "      <td>21</td>\n",
       "      <td>21.000000</td>\n",
       "      <td>21.000000</td>\n",
       "      <td>21.000000</td>\n",
       "      <td>21.000000</td>\n",
       "      <td>2.100000e+01</td>\n",
       "    </tr>\n",
       "    <tr>\n",
       "      <th>mean</th>\n",
       "      <td>2025-10-06 11:51:25.714285824</td>\n",
       "      <td>666.160476</td>\n",
       "      <td>668.843629</td>\n",
       "      <td>662.303281</td>\n",
       "      <td>665.571429</td>\n",
       "      <td>7.883018e+07</td>\n",
       "    </tr>\n",
       "    <tr>\n",
       "      <th>min</th>\n",
       "      <td>2025-09-22 21:00:00</td>\n",
       "      <td>657.170000</td>\n",
       "      <td>659.405600</td>\n",
       "      <td>652.840000</td>\n",
       "      <td>653.020000</td>\n",
       "      <td>5.462326e+07</td>\n",
       "    </tr>\n",
       "    <tr>\n",
       "      <th>25%</th>\n",
       "      <td>2025-09-29 21:00:00</td>\n",
       "      <td>662.930000</td>\n",
       "      <td>665.755000</td>\n",
       "      <td>658.140000</td>\n",
       "      <td>662.230000</td>\n",
       "      <td>6.650194e+07</td>\n",
       "    </tr>\n",
       "    <tr>\n",
       "      <th>50%</th>\n",
       "      <td>2025-10-06 21:00:00</td>\n",
       "      <td>666.820000</td>\n",
       "      <td>669.370000</td>\n",
       "      <td>661.860000</td>\n",
       "      <td>665.170000</td>\n",
       "      <td>7.254537e+07</td>\n",
       "    </tr>\n",
       "    <tr>\n",
       "      <th>75%</th>\n",
       "      <td>2025-10-13 21:00:00</td>\n",
       "      <td>670.450000</td>\n",
       "      <td>672.675000</td>\n",
       "      <td>667.670000</td>\n",
       "      <td>669.220000</td>\n",
       "      <td>8.628803e+07</td>\n",
       "    </tr>\n",
       "    <tr>\n",
       "      <th>max</th>\n",
       "      <td>2025-10-20 21:00:00</td>\n",
       "      <td>673.530000</td>\n",
       "      <td>673.950000</td>\n",
       "      <td>669.981000</td>\n",
       "      <td>673.110000</td>\n",
       "      <td>1.594226e+08</td>\n",
       "    </tr>\n",
       "    <tr>\n",
       "      <th>std</th>\n",
       "      <td>NaN</td>\n",
       "      <td>5.164039</td>\n",
       "      <td>4.190386</td>\n",
       "      <td>5.663808</td>\n",
       "      <td>5.189535</td>\n",
       "      <td>2.333328e+07</td>\n",
       "    </tr>\n",
       "  </tbody>\n",
       "</table>\n",
       "</div>"
      ],
      "text/plain": [
       "                           Timestamp        Open        High         Low  \\\n",
       "count                             21   21.000000   21.000000   21.000000   \n",
       "mean   2025-10-06 11:51:25.714285824  666.160476  668.843629  662.303281   \n",
       "min              2025-09-22 21:00:00  657.170000  659.405600  652.840000   \n",
       "25%              2025-09-29 21:00:00  662.930000  665.755000  658.140000   \n",
       "50%              2025-10-06 21:00:00  666.820000  669.370000  661.860000   \n",
       "75%              2025-10-13 21:00:00  670.450000  672.675000  667.670000   \n",
       "max              2025-10-20 21:00:00  673.530000  673.950000  669.981000   \n",
       "std                              NaN    5.164039    4.190386    5.663808   \n",
       "\n",
       "            Close        Volume  \n",
       "count   21.000000  2.100000e+01  \n",
       "mean   665.571429  7.883018e+07  \n",
       "min    653.020000  5.462326e+07  \n",
       "25%    662.230000  6.650194e+07  \n",
       "50%    665.170000  7.254537e+07  \n",
       "75%    669.220000  8.628803e+07  \n",
       "max    673.110000  1.594226e+08  \n",
       "std      5.189535  2.333328e+07  "
      ]
     },
     "execution_count": 3,
     "metadata": {},
     "output_type": "execute_result"
    }
   ],
   "source": [
    "market_df = get_market_data(\n",
    "    symbol=symbol,\n",
    "    start=start_date.isoformat(),\n",
    "    end=end_date.isoformat(),\n",
    "    interval='1D',\n",
    "    use_cache=True,\n",
    ")\n",
    "print('Market rows:', len(market_df))\n",
    "market_df.head()\n",
    "market_df.info()\n",
    "market_df.describe()"
   ]
  },
  {
   "cell_type": "markdown",
   "id": "75302277",
   "metadata": {},
   "source": [
    "## 4. Fetch options data\n",
    "`get_options_data` returns contract metadata derived from the HDF5 cache and backfills any missing expirations or strike slices before responding."
   ]
  },
  {
   "cell_type": "code",
   "execution_count": 4,
   "id": "cf7478d5",
   "metadata": {},
   "outputs": [
    {
     "name": "stderr",
     "output_type": "stream",
     "text": [
      "                                                                                "
     ]
    },
    {
     "name": "stdout",
     "output_type": "stream",
     "text": [
      "Options rows: 129\n",
      "<class 'pandas.core.frame.DataFrame'>\n",
      "RangeIndex: 129 entries, 0 to 128\n",
      "Data columns (total 2 columns):\n",
      " #   Column  Non-Null Count  Dtype \n",
      "---  ------  --------------  ----- \n",
      " 0   ticker  129 non-null    object\n",
      " 1   ohlcv   129 non-null    object\n",
      "dtypes: object(2)\n",
      "memory usage: 2.1+ KB\n"
     ]
    },
    {
     "data": {
      "text/html": [
       "<div>\n",
       "<style scoped>\n",
       "    .dataframe tbody tr th:only-of-type {\n",
       "        vertical-align: middle;\n",
       "    }\n",
       "\n",
       "    .dataframe tbody tr th {\n",
       "        vertical-align: top;\n",
       "    }\n",
       "\n",
       "    .dataframe thead th {\n",
       "        text-align: right;\n",
       "    }\n",
       "</style>\n",
       "<table border=\"1\" class=\"dataframe\">\n",
       "  <thead>\n",
       "    <tr style=\"text-align: right;\">\n",
       "      <th></th>\n",
       "      <th>ticker</th>\n",
       "      <th>ohlcv</th>\n",
       "    </tr>\n",
       "  </thead>\n",
       "  <tbody>\n",
       "    <tr>\n",
       "      <th>count</th>\n",
       "      <td>129</td>\n",
       "      <td>129</td>\n",
       "    </tr>\n",
       "    <tr>\n",
       "      <th>unique</th>\n",
       "      <td>129</td>\n",
       "      <td>129</td>\n",
       "    </tr>\n",
       "    <tr>\n",
       "      <th>top</th>\n",
       "      <td>O:SPY251103C00630000</td>\n",
       "      <td>o      h   l      c  v\n",
       "t...</td>\n",
       "    </tr>\n",
       "    <tr>\n",
       "      <th>freq</th>\n",
       "      <td>1</td>\n",
       "      <td>1</td>\n",
       "    </tr>\n",
       "  </tbody>\n",
       "</table>\n",
       "</div>"
      ],
      "text/plain": [
       "                      ticker  \\\n",
       "count                    129   \n",
       "unique                   129   \n",
       "top     O:SPY251103C00630000   \n",
       "freq                       1   \n",
       "\n",
       "                                                    ohlcv  \n",
       "count                                                 129  \n",
       "unique                                                129  \n",
       "top                           o      h   l      c  v\n",
       "t...  \n",
       "freq                                                    1  "
      ]
     },
     "execution_count": 4,
     "metadata": {},
     "output_type": "execute_result"
    }
   ],
   "source": [
    "options_df = get_options_data(\n",
    "    symbol=symbol,\n",
    "    start_date=start_date.isoformat(),\n",
    "    end_date=end_date.isoformat(),\n",
    "    interval='1D',\n",
    "    use_cache=True,\n",
    "    look_forward=14,\n",
    ")\n",
    "print('Options rows:', len(options_df))\n",
    "options_df.head()\n",
    "options_df.info()\n",
    "options_df.describe()"
   ]
  },
  {
   "cell_type": "code",
   "execution_count": 12,
   "id": "6ed31b31-54cc-4891-b3da-f2a6f175bacb",
   "metadata": {},
   "outputs": [],
   "source": [
    "options_df.iloc[0][6]"
   ]
  },
  {
   "cell_type": "code",
   "execution_count": null,
   "id": "67626a22",
   "metadata": {},
   "outputs": [],
   "source": [
    "from oami.utils.cache_manager import H5_PATH\n",
    "import pandas as pd\n",
    "\n",
    "with pd.HDFStore(H5_PATH, mode='r') as store:\n",
    "    print('Cache located at:', H5_PATH)\n",
    "    print('Available keys:')\n",
    "    for key in store.keys():\n",
    "        print(' ', key)\n"
   ]
  },
  {
   "cell_type": "markdown",
   "id": "8543d8da",
   "metadata": {},
   "source": [
    "## 5. Inspect the cache keys\n",
    "Use `pandas.HDFStore` to view the contents of the cache. Keys under `/stocks` contain market bars, while `/options` embed per-contract aggregates."
   ]
  },
  {
   "cell_type": "markdown",
   "id": "b348b35a",
   "metadata": {},
   "source": [
    "## 6. Re-using cached data\n",
    "Running the notebook again with the same window now pulls everything directly from the HDF5 cache—no additional API calls required."
   ]
  }
 ],
 "metadata": {
  "kernelspec": {
   "display_name": "Python 3 (ipykernel)",
   "language": "python",
   "name": "python3"
  },
  "language_info": {
   "codemirror_mode": {
    "name": "ipython",
    "version": 3
   },
   "file_extension": ".py",
   "mimetype": "text/x-python",
   "name": "python",
   "nbconvert_exporter": "python",
   "pygments_lexer": "ipython3",
   "version": "3.13.7"
  }
 },
 "nbformat": 4,
 "nbformat_minor": 5
}
